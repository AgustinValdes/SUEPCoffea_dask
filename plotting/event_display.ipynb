{
 "cells": [
  {
   "cell_type": "code",
   "execution_count": 77,
   "id": "ab4beae8-ace9-4dc7-85ed-6abd1ec094d7",
   "metadata": {},
   "outputs": [],
   "source": [
    "%matplotlib inline\n",
    "\n",
    "import matplotlib\n",
    "import matplotlib.pyplot as plt\n",
    "import matplotlib.patches as patches\n",
    "import uproot\n",
    "import numpy as np\n",
    "import awkward as ak\n",
    "\n",
    "ifile =\"/home/submit/lavezzo/SUEP-m1000-generic-1.root\"\n",
    "\n",
    "rf = uproot.open(ifile)"
   ]
  },
  {
   "cell_type": "code",
   "execution_count": 78,
   "id": "46d13f77-37b6-4987-8ea5-d91ee7c40c27",
   "metadata": {},
   "outputs": [],
   "source": [
    "tree = rf['Events']"
   ]
  },
  {
   "cell_type": "code",
   "execution_count": 87,
   "id": "783372b4-e2d4-4adf-9330-20df2508b7d3",
   "metadata": {},
   "outputs": [],
   "source": [
    "Jets = ak.zip({\n",
    "            \"pt\": tree['Jet_pt'].array(),\n",
    "            \"eta\": tree['Jet_eta'].array(),\n",
    "            \"phi\": tree['Jet_phi'].array(),\n",
    "            \"mass\": tree['Jet_mass'].array(),\n",
    "            \"jetId\": tree['Jet_jetId'].array()\n",
    "        })\n",
    "jetCut = (Jets.pt > 30) & (abs(Jets.eta)<4.7)\n",
    "ak4jets = Jets[jetCut]"
   ]
  },
  {
   "cell_type": "code",
   "execution_count": 131,
   "id": "475ce3e5-bd67-4f33-9149-b7fd322bf05a",
   "metadata": {},
   "outputs": [],
   "source": [
    "Cands = ak.zip({\n",
    "            \"pt\": tree['PFCands_pt'].array(),\n",
    "            \"eta\": tree['PFCands_eta'].array(),\n",
    "            \"phi\": tree['PFCands_phi'].array(),\n",
    "            \"mass\": tree['PFCands_mass'].array()\n",
    "        }, with_name=\"Momentum4D\")        \n",
    "cut = (tree['PFCands_fromPV'].array() > 1) & \\\n",
    "        (tree['PFCands_pt'].array() >= 0.7) & \\\n",
    "        (abs(tree['PFCands_eta'].array()) <= 2.5) & \\\n",
    "        (abs(tree['PFCands_dz'].array()) < 10) & \\\n",
    "        (tree['PFCands_dzErr'].array() < 0.05)\n",
    "Cleaned_cands = Cands[cut]\n",
    "Cleaned_cands = ak.packed(Cleaned_cands)"
   ]
  },
  {
   "cell_type": "code",
   "execution_count": 150,
   "id": "79eec704-ca15-4f0b-bd73-6e42df371db0",
   "metadata": {},
   "outputs": [
    {
     "data": {
      "application/vnd.jupyter.widget-view+json": {
       "model_id": "bede3117f3074bc18cd7359329ff340d",
       "version_major": 2,
       "version_minor": 0
      },
      "image/png": "[encoded data removed]",
      "text/html": [
       "\n",
       "            <div style=\"display: inline-block;\">\n",
       "                <div class=\"jupyter-widgets widget-label\" style=\"text-align: center;\">\n",
       "                    Figure\n",
       "                </div>\n",
       "                <img src='data:image/png;base64,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' width=432.0/>\n",
       "            </div>\n",
       "        "
      ],
      "text/plain": [
       "Canvas(toolbar=Toolbar(toolitems=[('Home', 'Reset original view', 'home', 'home'), ('Back', 'Back to previous …"
      ]
     },
     "metadata": {},
     "output_type": "display_data"
    }
   ],
   "source": [
    "%matplotlib widget\n",
    "plt.style.use('dark_background')\n",
    "\n",
    "iEvent = 8          # which event to plot\n",
    "nbins = 300         # how many bins for eta, phi\n",
    "size = 0.3          # size of jets' boxes\n",
    "\n",
    "bins_eta = np.linspace(-3,3,nbins)\n",
    "bins_phi = np.linspace(-np.pi, np.pi, nbins)\n",
    "fig = plt.figure(figsize=(6,6))\n",
    "ax = plt.subplot()\n",
    "ax.set_title(\"Event \" + str(iEvent))\n",
    "_ = ax.hist2d(Cleaned_cands.eta[iEvent], Cleaned_cands.phi[iEvent], \n",
    "              #cmap='plasma', \n",
    "              cmap='jet', \n",
    "              bins=[bins_eta,bins_phi], \n",
    "              cmin=0.0000001)\n",
    "for jet in ak4jets[iEvent]:\n",
    "    s = patches.Rectangle((jet.eta-size/2, jet.phi-size/2),\n",
    "                                   size,\n",
    "                                   size,\n",
    "                                   linewidth=0.5,\n",
    "                                   edgecolor='white',\n",
    "                                   facecolor='none')\n",
    "    ax.add_patch(s)\n",
    "ax.set_xlim(-3,3)\n",
    "ax.set_xlabel(r\"$\\eta$\")\n",
    "ax.set_ylim(-np.pi, np.pi)\n",
    "ax.set_ylabel(r\"$\\phi$\")\n",
    "ax.set_yticks([-np.pi, -np.pi/2, 0, np.pi/2, np.pi])\n",
    "_ = ax.set_yticklabels([r\"-$\\pi$\", r\"-$\\pi$/2\", \"0\", r\"$\\pi$/2\", r\"$\\pi$\"])"
   ]
  },
  {
   "cell_type": "code",
   "execution_count": null,
   "id": "e1c66d51-cc8d-4d01-8136-c4cde4d30f36",
   "metadata": {},
   "outputs": [],
   "source": []
  }
 ],
 "metadata": {
  "kernelspec": {
   "display_name": "SUEP",
   "language": "python",
   "name": "suep"
  },
  "language_info": {
   "codemirror_mode": {
    "name": "ipython",
    "version": 3
   },
   "file_extension": ".py",
   "mimetype": "text/x-python",
   "name": "python",
   "nbconvert_exporter": "python",
   "pygments_lexer": "ipython3",
   "version": "3.9.7"
  }
 },
 "nbformat": 4,
 "nbformat_minor": 5
}
