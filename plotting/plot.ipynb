{
 "cells": [
  {
   "cell_type": "code",
   "execution_count": 82,
   "id": "7fa9d261-8f82-49d7-84fc-8a43d4ab4fad",
   "metadata": {},
   "outputs": [],
   "source": [
    "import os\n",
    "import pandas as pd \n",
    "import numpy as np\n",
    "import matplotlib.pyplot as plt\n",
    "import matplotlib\n",
    "import hist\n",
    "from hist import Hist\n",
    "import os, sys\n",
    "import json\n",
    "import h5py\n",
    "import awkward as ak\n",
    "import uproot\n",
    "import pickle\n",
    "import vector\n",
    "import mplhep as hep\n",
    "vector.register_awkward()\n",
    "\n",
    "# parameters for matplotlib styling\n",
    "plt.style.use(hep.style.CMS)\n",
    "matplotlib.rcParams.update({'figure.max_open_warning': 0})\n",
    "matplotlib.rcParams.update({'font.size': 20})"
   ]
  },
  {
   "cell_type": "code",
   "execution_count": 83,
   "id": "6a8da96b-3df3-4326-b349-f36b4b8eb07e",
   "metadata": {},
   "outputs": [],
   "source": [
    "# parameters\n",
    "tag = '2018_MC'\n",
    "unblind = False                               # don't show D_exp for SUEP\n",
    "show = 'all'                                  # set to 'all' or list of plots or plot name\n",
    "save_to_file = ['A','B']                      # set to 'all' or list of plots or plot name\n",
    "output_label = 'SUEP'\n",
    "\n",
    "datasets = [\n",
    "           \"QCD_HT1000to1500_TuneCP5_13TeV-madgraphMLM-pythia8+RunIIAutumn18MiniAOD-102X_upgrade2018_realistic_v15-v1+MINIAODSIM\",\n",
    "           \"QCD_HT100to200_TuneCP5_13TeV-madgraphMLM-pythia8+RunIIAutumn18MiniAOD-102X_upgrade2018_realistic_v15-v1+MINIAODSIM\",\n",
    "           \"QCD_HT1500to2000_TuneCP5_13TeV-madgraphMLM-pythia8+RunIIAutumn18MiniAOD-102X_upgrade2018_realistic_v15-v1+MINIAODSIM\",\n",
    "           \"QCD_HT2000toInf_TuneCP5_13TeV-madgraphMLM-pythia8+RunIIAutumn18MiniAOD-102X_upgrade2018_realistic_v15-v1+MINIAODSIM\",\n",
    "           \"QCD_HT200to300_TuneCP5_13TeV-madgraphMLM-pythia8+RunIIAutumn18MiniAOD-102X_upgrade2018_realistic_v15-v1+MINIAODSIM\",\n",
    "           \"QCD_HT300to500_TuneCP5_13TeV-madgraphMLM-pythia8+RunIIAutumn18MiniAOD-102X_upgrade2018_realistic_v15-v1+MINIAODSIM\",\n",
    "           \"QCD_HT500to700_TuneCP5_13TeV-madgraphMLM-pythia8+RunIIAutumn18MiniAOD-102X_upgrade2018_realistic_v15-v1+MINIAODSIM\",\n",
    "           \"QCD_HT700to1000_TuneCP5_13TeV-madgraphMLM-pythia8+RunIIAutumn18MiniAOD-102X_upgrade2018_realistic_v15-v1+MINIAODSIM\",\n",
    "           \"SUEP-m1000-darkPho+RunIIAutumn18-private+MINIAODSIM\",\n",
    "           \"SUEP-m1000-darkPhoHad+RunIIAutumn18-private+MINIAODSIM\",\n",
    "           \"SUEP-m1000-generic+RunIIAutumn18-private+MINIAODSIM\",\n",
    "           \"SUEP-m125-darkPho+RunIIAutumn18-private+MINIAODSIM\",\n",
    "           \"SUEP-m125-darkPhoHad+RunIIAutumn18-private+MINIAODSIM\",\n",
    "           \"SUEP-m125-generic+RunIIAutumn18-private+MINIAODSIM\",\n",
    "           \"SUEP-m400-darkPho+RunIIAutumn18-private+MINIAODSIM\",\n",
    "           \"SUEP-m400-darkPhoHad+RunIIAutumn18-private+MINIAODSIM\",\n",
    "           \"SUEP-m400-generic+RunIIAutumn18-private+MINIAODSIM\",\n",
    "           \"SUEP-m750-darkPho+RunIIAutumn18-private+MINIAODSIM\",\n",
    "           \"SUEP-m750-darkPhoHad+RunIIAutumn18-private+MINIAODSIM\",\n",
    "           \"SUEP-m750-generic+RunIIAutumn18-private+MINIAODSIM\"\n",
    "           ]\n",
    "infile_names = [plotDir+dataset+'_ABCD_plot.pkl' for dataset in datasets]\n",
    "dataDir = \"/work/submit/{0}/SUEP/{1}\".format(os.environ['USER'],tag)\n",
    "plotDir = os.environ['HOME']+\"/SUEPCoffea_dask/plotting/\""
   ]
  },
  {
   "cell_type": "code",
   "execution_count": 84,
   "id": "79577689-289e-47bc-9ec3-4a99de97fcce",
   "metadata": {},
   "outputs": [],
   "source": [
    "# load files from pickle\n",
    "def openpkl(infile_name):\n",
    "    with (open(infile_name, \"rb\")) as openfile:\n",
    "        plots = pickle.load(openfile)\n",
    "        plots.update(pickle.load(openfile))\n",
    "    return plots"
   ]
  },
  {
   "cell_type": "code",
   "execution_count": 85,
   "id": "5d923a52-f6cc-40de-af0f-567d9b787d3b",
   "metadata": {},
   "outputs": [
    {
     "name": "stdout",
     "output_type": "stream",
     "text": [
      "Loading QCD_HT1000to1500_TuneCP5_13TeV-madgraphMLM-pythia8+RunIIAutumn18MiniAOD-102X_upgrade2018_realistic_v15-v1+MINIAODSIM\n",
      "Loading QCD_HT100to200_TuneCP5_13TeV-madgraphMLM-pythia8+RunIIAutumn18MiniAOD-102X_upgrade2018_realistic_v15-v1+MINIAODSIM\n",
      "Loading QCD_HT1500to2000_TuneCP5_13TeV-madgraphMLM-pythia8+RunIIAutumn18MiniAOD-102X_upgrade2018_realistic_v15-v1+MINIAODSIM\n",
      "Loading QCD_HT2000toInf_TuneCP5_13TeV-madgraphMLM-pythia8+RunIIAutumn18MiniAOD-102X_upgrade2018_realistic_v15-v1+MINIAODSIM\n",
      "Loading QCD_HT200to300_TuneCP5_13TeV-madgraphMLM-pythia8+RunIIAutumn18MiniAOD-102X_upgrade2018_realistic_v15-v1+MINIAODSIM\n",
      "Loading QCD_HT300to500_TuneCP5_13TeV-madgraphMLM-pythia8+RunIIAutumn18MiniAOD-102X_upgrade2018_realistic_v15-v1+MINIAODSIM\n",
      "Loading QCD_HT500to700_TuneCP5_13TeV-madgraphMLM-pythia8+RunIIAutumn18MiniAOD-102X_upgrade2018_realistic_v15-v1+MINIAODSIM\n",
      "Loading QCD_HT700to1000_TuneCP5_13TeV-madgraphMLM-pythia8+RunIIAutumn18MiniAOD-102X_upgrade2018_realistic_v15-v1+MINIAODSIM\n",
      "Loading SUEP-m1000-darkPho+RunIIAutumn18-private+MINIAODSIM\n",
      "Loading SUEP-m1000-darkPhoHad+RunIIAutumn18-private+MINIAODSIM\n",
      "Loading SUEP-m1000-generic+RunIIAutumn18-private+MINIAODSIM\n",
      "Loading SUEP-m125-darkPho+RunIIAutumn18-private+MINIAODSIM\n",
      "Loading SUEP-m125-darkPhoHad+RunIIAutumn18-private+MINIAODSIM\n",
      "Loading SUEP-m125-generic+RunIIAutumn18-private+MINIAODSIM\n",
      "Loading SUEP-m400-darkPho+RunIIAutumn18-private+MINIAODSIM\n",
      "Loading SUEP-m400-darkPhoHad+RunIIAutumn18-private+MINIAODSIM\n",
      "Loading SUEP-m400-generic+RunIIAutumn18-private+MINIAODSIM\n",
      "Loading SUEP-m750-darkPho+RunIIAutumn18-private+MINIAODSIM\n",
      "Loading SUEP-m750-darkPhoHad+RunIIAutumn18-private+MINIAODSIM\n",
      "Loading SUEP-m750-generic+RunIIAutumn18-private+MINIAODSIM\n"
     ]
    }
   ],
   "source": [
    "SUEP_plots, QCD_plots = {}, {}\n",
    "for dataset, infile_name in zip(datasets, infile_names):\n",
    "    if not os.path.isfile(infile_name): \n",
    "        print(dataset,\"doesn't exist\")\n",
    "        continue\n",
    "    print(\"Loading\",dataset)\n",
    "    if 'SUEP' in dataset:\n",
    "        SUEP_plots[dataset] = openpkl(infile_name)\n",
    "    if 'QCD' in dataset:\n",
    "        QCD_plots[dataset] = openpkl(infile_name)"
   ]
  },
  {
   "cell_type": "code",
   "execution_count": 86,
   "id": "f9347739-e33e-453a-89a9-1b0be3b27a85",
   "metadata": {},
   "outputs": [],
   "source": [
    "def plot1d(h, ax, label):\n",
    "    values, x = h.to_numpy()\n",
    "    ax.step(x[:-1],values, label=label)\n",
    "    ax.set_xlabel(h.axes[0].name)\n",
    "    ax.set_ylabel(\"Events\")\n",
    "    \n",
    "def plot2d(label, save=False):\n",
    "    h = plots[label]\n",
    "    fig, ax = plt.subplots(figsize=(8,5))\n",
    "    hep.cms.label(data=False,year='2018', fontsize=20)\n",
    "    w, x, y = h.to_numpy()\n",
    "    mesh = ax.pcolormesh(x, y, w.T, cmap=\"RdYlBu\")\n",
    "    ax.set_xlabel(h.axes[0].name)\n",
    "    ax.set_ylabel(h.axes[1].name)\n",
    "    fig.colorbar(mesh)\n",
    "    if save: fig.savefig(output_label + \"_\" + label+\".pdf\", bbox_inches='tight')"
   ]
  },
  {
   "cell_type": "code",
   "execution_count": 87,
   "id": "9fbe7922-bfbd-41c8-aa17-24d06bf62ab7",
   "metadata": {},
   "outputs": [
    {
     "name": "stdout",
     "output_type": "stream",
     "text": [
      "Showing plots: ['A_mult', 'B_mult', 'C_mult', 'D_exp_mult', 'D_obs_mult', 'ABCDvars_2D_mult', 'SUEP_mult_nconst', 'SUEP_mult_pt', 'SUEP_mult_pt_avg', 'SUEP_mult_pt_avg_b', 'SUEP_mult_eta', 'SUEP_mult_phi', 'SUEP_mult_mass', 'SUEP_mult_spher', 'SUEP_mult_aplan', 'SUEP_mult_FW2M', 'SUEP_mult_D', 'SUEP_mult_girth_pt', 'A_ch', 'B_ch', 'C_ch', 'D_exp_ch', 'D_obs_ch', 'ABCDvars_2D_ch', 'SUEP_ch_nconst', 'SUEP_ch_pt', 'SUEP_ch_pt_avg', 'SUEP_ch_pt_avg_b', 'SUEP_ch_eta', 'SUEP_ch_phi', 'SUEP_ch_mass', 'SUEP_ch_spher', 'SUEP_ch_aplan', 'SUEP_ch_FW2M', 'SUEP_ch_D', 'SUEP_ch_girth_pt', 'SUEP_ch_dphi_chcands_ISR', 'SUEP_ch_dphi_SUEPtracks_ISR', 'SUEP_ch_dphi_ISRtracks_ISR', 'SUEP_ch_dphi_SUEP_ISR']\n",
      "Saving plots: ['A', 'B']\n"
     ]
    }
   ],
   "source": [
    "# define a list of plots to show\n",
    "if type(show) == str and show == 'all': \n",
    "    showlist = list(SUEP_plots[list(SUEP_plots.keys())[0]].keys())\n",
    "elif type(show) == str and show in SUEP_plots[list(SUEP_plots.keys())[0]].keys():\n",
    "    showlist = [show]\n",
    "elif type(show) == list: \n",
    "    showlist = show\n",
    "print(\"Showing plots:\",showlist)\n",
    "\n",
    "# define a savelist of plots to save to file\n",
    "if type(save_to_file) == str and save_to_file == 'all': \n",
    "    savelist = list(plots.keys())\n",
    "elif type(save_to_file) == str and save_to_file in plots.keys():\n",
    "    savelist = [save_to_file]\n",
    "elif type(save_to_file) == list: \n",
    "    savelist = save_to_file\n",
    "print(\"Saving plots:\",savelist)"
   ]
  },
  {
   "cell_type": "code",
   "execution_count": 88,
   "id": "9ca274e1-7da9-49e4-88f3-a623e20d0a27",
   "metadata": {},
   "outputs": [],
   "source": [
    "def find_nth(string, substring, n):\n",
    "    if (n == 1):\n",
    "        return string.find(substring)\n",
    "    else:\n",
    "        return string.find(substring, find_nth(string, substring, n - 1) + 1)"
   ]
  },
  {
   "cell_type": "code",
   "execution_count": null,
   "id": "00bff5e9-f268-4c5c-a247-50bca11ae7b7",
   "metadata": {},
   "outputs": [],
   "source": [
    "for plot_label in showlist:\n",
    "    if 'D_obs' in plot_label and (not unblind): continue\n",
    "    if '2D' in plot_label: continue\n",
    "    save = plot_label in savelist\n",
    "    \n",
    "    # define figure, axis on which to plot QCD and SUEP\n",
    "    fig, ax = plt.subplots(figsize=(8,5))\n",
    "    hep.cms.label(data=False,year='2018', fontsize=20)\n",
    "    \n",
    "    # keep the SUEP hists separate for each sample\n",
    "    SUEP_hists,SUEP_labels = [],[]\n",
    "    for sample in list(SUEP_plots.keys()):\n",
    "        i = find_nth(sample,'-',2)\n",
    "        SUEP_labels.append(sample[:i])\n",
    "        SUEP_hists.append(SUEP_plots[sample][plot_label])\n",
    "    \n",
    "    # combine the QCD hists\n",
    "    for i,QCD_sample in enumerate(QCD_plots.keys()):\n",
    "        if i==0: hQCD = QCD_plots[QCD_sample][plot_label]\n",
    "        else: hQCD = hQCD + QCD_plots[QCD_sample][plot_label]\n",
    "    \n",
    "    # plot QCD, SUEP\n",
    "    for hSUEP, l in zip(SUEP_hists, SUEP_labels): plot1d(hSUEP, ax, l)\n",
    "    plot1d(hQCD, ax, 'QCD')\n",
    "    \n",
    "    ax.set_yscale('log')\n",
    "    ax.legend(loc='best', fontsize=10)\n",
    "    fig.tight_layout()\n",
    "    \n",
    "    if save: fig.savefig(output_label + \"_\" + plot_label +\".pdf\", bbox_inches='tight')"
   ]
  },
  {
   "cell_type": "code",
   "execution_count": 6,
   "id": "6055e6f6-bf1d-4f5e-9aa3-292d8855a3de",
   "metadata": {},
   "outputs": [
    {
     "ename": "NameError",
     "evalue": "name 'plots' is not defined",
     "output_type": "error",
     "traceback": [
      "\u001b[0;31m---------------------------------------------------------------------------\u001b[0m",
      "\u001b[0;31mNameError\u001b[0m                                 Traceback (most recent call last)",
      "\u001b[0;32m/tmp/ipykernel_31559/1247452623.py\u001b[0m in \u001b[0;36m<module>\u001b[0;34m\u001b[0m\n\u001b[0;32m----> 1\u001b[0;31m \u001b[0;32mfor\u001b[0m \u001b[0mlabel\u001b[0m \u001b[0;32min\u001b[0m \u001b[0mplots\u001b[0m\u001b[0;34m.\u001b[0m\u001b[0mkeys\u001b[0m\u001b[0;34m(\u001b[0m\u001b[0;34m)\u001b[0m\u001b[0;34m:\u001b[0m\u001b[0;34m\u001b[0m\u001b[0;34m\u001b[0m\u001b[0m\n\u001b[0m\u001b[1;32m      2\u001b[0m     \u001b[0;32mif\u001b[0m \u001b[0;34m'D_obs'\u001b[0m \u001b[0;32min\u001b[0m \u001b[0mlabel\u001b[0m \u001b[0;32mand\u001b[0m \u001b[0;34m(\u001b[0m\u001b[0;32mnot\u001b[0m \u001b[0munblind\u001b[0m\u001b[0;34m)\u001b[0m\u001b[0;34m:\u001b[0m \u001b[0;32mcontinue\u001b[0m\u001b[0;34m\u001b[0m\u001b[0;34m\u001b[0m\u001b[0m\n\u001b[1;32m      3\u001b[0m     \u001b[0;32mif\u001b[0m \u001b[0mplots\u001b[0m\u001b[0;34m[\u001b[0m\u001b[0mlabel\u001b[0m\u001b[0;34m]\u001b[0m\u001b[0;34m.\u001b[0m\u001b[0msum\u001b[0m\u001b[0;34m(\u001b[0m\u001b[0;34m)\u001b[0m\u001b[0;34m.\u001b[0m\u001b[0mvalue\u001b[0m \u001b[0;34m==\u001b[0m \u001b[0;36m0\u001b[0m\u001b[0;34m:\u001b[0m\u001b[0;34m\u001b[0m\u001b[0;34m\u001b[0m\u001b[0m\n\u001b[1;32m      4\u001b[0m         \u001b[0mprint\u001b[0m\u001b[0;34m(\u001b[0m\u001b[0;34m'Histogram'\u001b[0m\u001b[0;34m,\u001b[0m\u001b[0mlabel\u001b[0m\u001b[0;34m,\u001b[0m\u001b[0;34m'is empty'\u001b[0m\u001b[0;34m)\u001b[0m\u001b[0;34m\u001b[0m\u001b[0;34m\u001b[0m\u001b[0m\n\u001b[1;32m      5\u001b[0m         \u001b[0;32mcontinue\u001b[0m\u001b[0;34m\u001b[0m\u001b[0;34m\u001b[0m\u001b[0m\n",
      "\u001b[0;31mNameError\u001b[0m: name 'plots' is not defined"
     ]
    }
   ],
   "source": [
    "            \n",
    "    if '2D' in label: plot2d(plot_label, save)\n",
    "    else:\n",
    "        \n",
    "        plot1d(plot_label, save)"
   ]
  },
  {
   "cell_type": "code",
   "execution_count": null,
   "id": "dc9c49b1-7f7a-493b-aae7-99f4efc0ba20",
   "metadata": {},
   "outputs": [],
   "source": []
  },
  {
   "cell_type": "code",
   "execution_count": null,
   "id": "bb6f908c-e6fb-4c68-a042-29cc01b17a66",
   "metadata": {},
   "outputs": [],
   "source": []
  }
 ],
 "metadata": {
  "kernelspec": {
   "display_name": "SUEP",
   "language": "python",
   "name": "suep"
  },
  "language_info": {
   "codemirror_mode": {
    "name": "ipython",
    "version": 3
   },
   "file_extension": ".py",
   "mimetype": "text/x-python",
   "name": "python",
   "nbconvert_exporter": "python",
   "pygments_lexer": "ipython3",
   "version": "3.9.7"
  }
 },
 "nbformat": 4,
 "nbformat_minor": 5
}
