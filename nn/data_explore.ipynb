{
 "cells": [
  {
   "cell_type": "code",
   "execution_count": 1,
   "id": "967db1c3-9ee4-46a0-a39c-bcab99e6b76a",
   "metadata": {},
   "outputs": [],
   "source": [
    "import pandas as pd\n",
    "import numpy as np\n",
    "import h5py\n",
    "import torch\n",
    "import torch.cuda as tcuda\n",
    "from utils import get_data_loader\n",
    "import yaml\n",
    "import tables"
   ]
  },
  {
   "cell_type": "code",
   "execution_count": 2,
   "id": "5104378f-4fd7-4beb-b2ff-c22ee22835ba",
   "metadata": {},
   "outputs": [],
   "source": [
    "# Load configuration\n",
    "\n",
    "CONFIG_FILE = 'ssd-config.yml'\n",
    "config = yaml.safe_load(open(CONFIG_FILE))\n",
    "ssd_settings = config['ssd_settings']"
   ]
  },
  {
   "cell_type": "code",
   "execution_count": 3,
   "id": "ad41cf8b-45ad-451f-bc07-80412b06f9db",
   "metadata": {},
   "outputs": [],
   "source": [
    "loader = get_data_loader('/home/lavezzo/SUEPCoffea_dask/out.hdf5',\n",
    "                             1,\n",
    "                             0,\n",
    "                             ssd_settings['input_dimensions'],\n",
    "                             ssd_settings['object_size'],\n",
    "                             return_pt=True,\n",
    "                             raw=True,\n",
    "                             shuffle=False)"
   ]
  },
  {
   "cell_type": "code",
   "execution_count": 4,
   "id": "bfe0b21f-7c1a-4cee-b3c5-c36f9b1a1188",
   "metadata": {},
   "outputs": [
    {
     "name": "stdout",
     "output_type": "stream",
     "text": [
      "torch.Size([1, 81])\n",
      "torch.Size([81])\n",
      "tensor([[[[-0.0109, -0.0109, -0.0109,  ..., -0.0109, -0.0109, -0.0109],\n",
      "          [-0.0109, -0.0109, -0.0109,  ..., -0.0109, -0.0109, -0.0109],\n",
      "          [-0.0109, -0.0109, -0.0109,  ..., -0.0109, -0.0109, -0.0109],\n",
      "          ...,\n",
      "          [-0.0109, -0.0109, -0.0109,  ..., -0.0109, -0.0109, -0.0109],\n",
      "          [-0.0109, -0.0109, -0.0109,  ..., -0.0109, -0.0109, -0.0109],\n",
      "          [-0.0109, -0.0109, -0.0109,  ..., -0.0109, -0.0109, -0.0109]]]],\n",
      "       device='cuda:0') [tensor([[-6.5813e-01,  2.4937e+00, -1.7725e+00],\n",
      "        [ 3.7673e-01,  2.8704e-01, -2.0391e+00],\n",
      "        [ 3.1946e+02,  3.6011e+02,  8.1080e+03]], device='cuda:0')]\n"
     ]
    }
   ],
   "source": [
    "for x, y in iter(loader):\n",
    "    print(x,y)\n",
    "    break"
   ]
  },
  {
   "cell_type": "code",
   "execution_count": 5,
   "id": "0592be01-78bc-4fb2-abed-ff4163398923",
   "metadata": {},
   "outputs": [],
   "source": [
    "fname = '../out.hdf5'\n",
    "infile = h5py.File(fname,'r')"
   ]
  },
  {
   "cell_type": "code",
   "execution_count": 14,
   "id": "e22bb96f-21ae-4fee-878d-769b1db18a61",
   "metadata": {},
   "outputs": [
    {
     "data": {
      "text/plain": [
       "list"
      ]
     },
     "execution_count": 14,
     "metadata": {},
     "output_type": "execute_result"
    }
   ],
   "source": [
    "type([infile['eta'][0]])"
   ]
  },
  {
   "cell_type": "code",
   "execution_count": null,
   "id": "f0fee220-3505-465c-b7fd-5cda3b8fe109",
   "metadata": {},
   "outputs": [],
   "source": []
  }
 ],
 "metadata": {
  "kernelspec": {
   "display_name": "SUEP",
   "language": "python",
   "name": "suep"
  },
  "language_info": {
   "codemirror_mode": {
    "name": "ipython",
    "version": 3
   },
   "file_extension": ".py",
   "mimetype": "text/x-python",
   "name": "python",
   "nbconvert_exporter": "python",
   "pygments_lexer": "ipython3",
   "version": "3.9.7"
  }
 },
 "nbformat": 4,
 "nbformat_minor": 5
}
