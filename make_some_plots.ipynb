{
 "cells": [
  {
   "cell_type": "code",
   "execution_count": 1,
   "metadata": {},
   "outputs": [],
   "source": [
    "import numpy as np\n",
    "import matplotlib.pyplot as plt\n",
    "from matplotlib.offsetbox import AnchoredText\n",
    "import mplhep as hep\n",
    "from coffea.util import load\n",
    "from coffea.hist import plot\n"
   ]
  },
  {
   "cell_type": "code",
   "execution_count": 2,
   "metadata": {},
   "outputs": [],
   "source": [
    "output = load('hists_ttcom_dummy_sample.coffea')"
   ]
  },
  {
   "cell_type": "code",
   "execution_count": null,
   "metadata": {
    "scrolled": false
   },
   "outputs": [
    {
     "name": "stdout",
     "output_type": "stream",
     "text": [
      "btagCMVA btagCSVV2\n"
     ]
    },
    {
     "name": "stderr",
     "output_type": "stream",
     "text": [
      "/afs/cern.ch/user/f/fsimpson/miniconda3/envs/coffea/lib/python3.7/site-packages/mplhep/plot.py:691: UserWarning: Attempted to set non-positive bottom ylim on a log-scaled axis.\n",
      "Invalid limit will be ignored.\n",
      "  ax.set_ylim(0, None)\n",
      "findfont: Font family ['cursive'] not found. Falling back to DejaVu Sans.\n"
     ]
    },
    {
     "name": "stdout",
     "output_type": "stream",
     "text": [
      "btagDeepB btagDeepC\n"
     ]
    },
    {
     "name": "stderr",
     "output_type": "stream",
     "text": [
      "/afs/cern.ch/user/f/fsimpson/miniconda3/envs/coffea/lib/python3.7/site-packages/mplhep/plot.py:691: UserWarning: Attempted to set non-positive bottom ylim on a log-scaled axis.\n",
      "Invalid limit will be ignored.\n",
      "  ax.set_ylim(0, None)\n"
     ]
    },
    {
     "name": "stdout",
     "output_type": "stream",
     "text": [
      "btagDeepFlavB btagDeepFlavC\n"
     ]
    },
    {
     "name": "stderr",
     "output_type": "stream",
     "text": [
      "/afs/cern.ch/user/f/fsimpson/miniconda3/envs/coffea/lib/python3.7/site-packages/mplhep/plot.py:691: UserWarning: Attempted to set non-positive bottom ylim on a log-scaled axis.\n",
      "Invalid limit will be ignored.\n",
      "  ax.set_ylim(0, None)\n"
     ]
    },
    {
     "name": "stdout",
     "output_type": "stream",
     "text": [
      "DeepCSV_trackDecayLenVal_0 DeepCSV_trackDecayLenVal_1\n"
     ]
    },
    {
     "name": "stderr",
     "output_type": "stream",
     "text": [
      "/afs/cern.ch/user/f/fsimpson/miniconda3/envs/coffea/lib/python3.7/site-packages/mplhep/plot.py:691: UserWarning: Attempted to set non-positive bottom ylim on a log-scaled axis.\n",
      "Invalid limit will be ignored.\n",
      "  ax.set_ylim(0, None)\n"
     ]
    },
    {
     "name": "stdout",
     "output_type": "stream",
     "text": [
      "DeepCSV_trackDecayLenVal_2 DeepCSV_trackDecayLenVal_3\n"
     ]
    },
    {
     "name": "stderr",
     "output_type": "stream",
     "text": [
      "/afs/cern.ch/user/f/fsimpson/miniconda3/envs/coffea/lib/python3.7/site-packages/mplhep/plot.py:691: UserWarning: Attempted to set non-positive bottom ylim on a log-scaled axis.\n",
      "Invalid limit will be ignored.\n",
      "  ax.set_ylim(0, None)\n"
     ]
    },
    {
     "name": "stdout",
     "output_type": "stream",
     "text": [
      "DeepCSV_trackDecayLenVal_4 DeepCSV_trackDecayLenVal_5\n"
     ]
    },
    {
     "name": "stderr",
     "output_type": "stream",
     "text": [
      "/afs/cern.ch/user/f/fsimpson/miniconda3/envs/coffea/lib/python3.7/site-packages/mplhep/plot.py:691: UserWarning: Attempted to set non-positive bottom ylim on a log-scaled axis.\n",
      "Invalid limit will be ignored.\n",
      "  ax.set_ylim(0, None)\n"
     ]
    },
    {
     "name": "stdout",
     "output_type": "stream",
     "text": [
      "DeepCSV_trackDeltaR_0 DeepCSV_trackDeltaR_1\n",
      "DeepCSV_trackDeltaR_2 DeepCSV_trackDeltaR_3\n",
      "DeepCSV_trackDeltaR_4 DeepCSV_trackDeltaR_5\n"
     ]
    }
   ],
   "source": [
    "plt.style.use([hep.style.ROOT, {'font.size': 16}])\n",
    "\n",
    "# plot options for data\n",
    "data_err_opts = {\n",
    "    'linestyle': 'none',\n",
    "    'marker': '.',\n",
    "    'markersize': 10.,\n",
    "    'color': 'k',\n",
    "    'elinewidth': 1,\n",
    "}\n",
    "\n",
    "for i in range(0, int(round(len(output.keys())))-1, 2)[2:]:\n",
    "    fig, (ax1, ax2) = plt.subplots(1, 2, figsize=(16, 7), sharex=True)\n",
    "    h1name = list(output.keys())[i]\n",
    "    h2name = list(output.keys())[i+1]\n",
    "    if any([h1name.startswith('cutflow'), h2name.startswith('cutflow')]): break\n",
    "    print(h1name, h2name)\n",
    "    h1 = output[h1name]\n",
    "    h2 = output[h2name]\n",
    "    # if True: normalize histo to 1\n",
    "    dense = True\n",
    "    \n",
    "    for ax, h in zip([ax1, ax2], [h1, h2]):\n",
    "        # scale MC samples according to lumi (for now, dummy scale)\n",
    "        scales = {\n",
    "            'ttbar': 0.1,\n",
    "            'ttbarprime':0.1,\n",
    "        }\n",
    "        h.scale(scales,axis='dataset')\n",
    "        if hasattr(h, 'dim'):\n",
    "            plot.plot1d(h[\"ttbar\"], ax=ax, legend_opts={'loc':1}, density=dense, stack=True);\n",
    "            plot.plot1d(h[\"ttbarprime\"], ax=ax, legend_opts={'loc':1}, density=dense, stack=True, clear=False);\n",
    "            plot.plot1d(h[\"Data\"], ax=ax, legend_opts={'loc':1}, density=dense, error_opts=data_err_opts, clear=False);\n",
    "        else:\n",
    "            continue    \n",
    "        #break\n",
    "    for ax, hname in zip([ax1, ax2], [h1name, h2name]):\n",
    "        at = AnchoredText(r\"$1\\mu, 1e$\"+\"\\n\"+\n",
    "                           \"2+ jets\"+\"\\n\"+\n",
    "                          r\"$|\\eta| < 2.5$\",\n",
    "                           loc=2, frameon=False)\n",
    "        ax.add_artist(at)\n",
    "        if hname.startswith(\"btag\") or hname.startswith(\"DeepCSV_trackDecayLenVal\"):\n",
    "            ax.semilogy()\n",
    "        ax.set_ylim(0.001, None)\n",
    "    hep.mpl_magic(ax1)\n",
    "    hep.mpl_magic(ax2)"
   ]
  },
  {
   "cell_type": "code",
   "execution_count": null,
   "metadata": {},
   "outputs": [],
   "source": []
  }
 ],
 "metadata": {
  "kernelspec": {
   "display_name": "Python 3",
   "language": "python",
   "name": "python3"
  },
  "language_info": {
   "codemirror_mode": {
    "name": "ipython",
    "version": 3
   },
   "file_extension": ".py",
   "mimetype": "text/x-python",
   "name": "python",
   "nbconvert_exporter": "python",
   "pygments_lexer": "ipython3",
   "version": "3.7.9"
  }
 },
 "nbformat": 4,
 "nbformat_minor": 4
}
