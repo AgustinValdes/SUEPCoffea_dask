{
 "cells": [
  {
   "cell_type": "markdown",
   "id": "89478bce-c68d-4738-b62d-b288e49503ba",
   "metadata": {},
   "source": [
    "# Dask through Jupyter Notebooks"
   ]
  },
  {
   "cell_type": "markdown",
   "id": "0a66b82e-fde3-4595-b4f9-24e25e6ae57d",
   "metadata": {},
   "source": [
    "This notebook will guide you through using Dask to analyze NanoAOD root files using a Slurm Cluster on SubMIT. This notebook utilizes a conda environment and then exports that environment in the slurm jobs. Follow the README for instructions on the conda environment. "
   ]
  },
  {
   "cell_type": "code",
   "execution_count": 1,
   "id": "36c07901-136b-4e4e-9146-33a52a8d671e",
   "metadata": {
    "tags": []
   },
   "outputs": [
    {
     "name": "stderr",
     "output_type": "stream",
     "text": [
      "/home/submit/lavezzo/miniconda3/envs/dask/lib/python3.9/site-packages/dask_jobqueue/core.py:20: FutureWarning: tmpfile is deprecated and will be removed in a future release. Please use dask.utils.tmpfile instead.\n",
      "  from distributed.utils import tmpfile\n"
     ]
    }
   ],
   "source": [
    "import os\n",
    "import sys\n",
    "import json\n",
    "import time\n",
    "import random\n",
    "import numpy as np\n",
    "from coffea import hist, processor\n",
    "import hist\n",
    "from hist import Hist\n",
    "import matplotlib\n",
    "\n",
    "from dask_jobqueue import SLURMCluster\n",
    "from distributed import Client\n",
    "from dask.distributed import performance_report"
   ]
  },
  {
   "cell_type": "markdown",
   "id": "c841c2aa-987c-4a20-8911-a8923f3d36f1",
   "metadata": {},
   "source": [
    "We set up a coffea ABC Processor to analyze the ROOT files. Here we grab the Muon and Electron collection and add some simple selections using awkward."
   ]
  },
  {
   "cell_type": "code",
   "execution_count": 2,
   "id": "768afee5-9257-4b71-a695-40c32101a1a1",
   "metadata": {},
   "outputs": [],
   "source": [
    "import awkward as ak\n",
    "import vector\n",
    "vector.register_awkward()\n",
    "\n",
    "class Simple_Process(processor.ProcessorABC):\n",
    "    def __init__(self, isMC: int, era: int, sample: str) -> None:\n",
    "        self.gensumweight = 1.0\n",
    "        self.era = era\n",
    "        self.isMC = isMC\n",
    "        self.sample = sample\n",
    "\n",
    "        #Set up for the histograms\n",
    "        self._accumulator = processor.dict_accumulator({\n",
    "            \"ht\": Hist(\n",
    "                hist.axis.Regular(1000, 0, 10000, name=\"HT\", label=\"HT\")\n",
    "            ),  \n",
    "            \"ntracks\": Hist(\n",
    "                hist.axis.Regular(1000, 0, 1000, name=\"ntracks\", label=\"ntracks\")\n",
    "            ), \n",
    "            \"2D_ht_ntracks\": Hist(\n",
    "                hist.axis.Regular(1000, 0, 10000, name=\"HT\", label=\"HT\"),\n",
    "                hist.axis.Regular(1000, 0, 1000, name=\"ntracks\", label=\"ntracks\")\n",
    "            ), \n",
    "        })\n",
    "\n",
    "    @property\n",
    "    def accumulator(self):\n",
    "        return self._accumulator\n",
    "    \n",
    "    def process(self, events):\n",
    "        output = self.accumulator\n",
    "        dataset = events.metadata['dataset']\n",
    "        print(dataset)\n",
    "        if self.isMC: self.gensumweight = ak.sum(events.genWeight)\n",
    "        \n",
    "        # gen particles\n",
    "        particles = ak.zip({\n",
    "            \"pt\": events.GenPart.pt,\n",
    "            \"eta\": events.GenPart.eta,\n",
    "            \"phi\": events.GenPart.phi,\n",
    "            \"mass\": events.GenPart.mass\n",
    "        }, with_name=\"Momentum4D\")\n",
    "        cut = (events.GenPart.status == 1) & \\\n",
    "                (events.GenPart.statusFlags != 49280) & \\\n",
    "                (events.GenPart.pt > 1) & \\\n",
    "                (abs(events.GenPart.eta) < 2.4)\n",
    "        particles = particles[cut]\n",
    "        \n",
    "        # gen jets\n",
    "        jets = ak.zip({\n",
    "            \"pt\": events.GenJet.pt,\n",
    "            \"eta\": events.GenJet.eta,\n",
    "            \"phi\": events.GenJet.phi,\n",
    "            \"mass\": events.GenJet.mass,\n",
    "        }, with_name=\"Momentum4D\")\n",
    "        jetCut = (jets.pt > 30) & (abs(jets.eta)<4.7)\n",
    "        jets = jets[jetCut]\n",
    "        \n",
    "        # measure some variables\n",
    "        ht = ak.sum(jets.pt,axis=-1).to_list()\n",
    "        ntracks = ak.num(particles).to_list()\n",
    "        \n",
    "        # fill out hists\n",
    "        output['ht'].fill(ht)\n",
    "        output['ntracks'].fill(ntracks)\n",
    "        output['2D_ht_ntracks'].fill(HT=ht, ntracks=ntracks)\n",
    "        \n",
    "        \n",
    "        return output\n",
    "\n",
    "    def postprocess(self, accumulator):\n",
    "        return accumulator"
   ]
  },
  {
   "cell_type": "code",
   "execution_count": 3,
   "id": "a2ae7fe0-0bda-471a-b79b-cc6e25849edd",
   "metadata": {},
   "outputs": [],
   "source": [
    "def check_port(port):\n",
    "    import socket\n",
    "    sock = socket.socket(socket.AF_INET, socket.SOCK_STREAM)\n",
    "    try:\n",
    "        sock.bind((\"0.0.0.0\", port))\n",
    "        available = True\n",
    "    except:\n",
    "        available = False\n",
    "    sock.close()\n",
    "    return available"
   ]
  },
  {
   "cell_type": "markdown",
   "id": "a7f4b491-1ea5-4798-8186-8e184177ae20",
   "metadata": {},
   "source": [
    "The following section defines additional parts of the slurm Dask job. Here we source the bashrc to prepare Conda. We also pass in the x509 proxy. In order to share the proxy across the SubMIT machines you should move your proxy to your HOME directory."
   ]
  },
  {
   "cell_type": "code",
   "execution_count": 4,
   "id": "4a03cb39-ca96-48a9-ba57-c14bac3982f0",
   "metadata": {},
   "outputs": [],
   "source": [
    "slurm_env = [\n",
    "     'export XRD_RUNFORKHANDLER=1',\n",
    "     'export XRD_STREAMTIMEOUT=10',\n",
    "     f'source {os.environ[\"HOME\"]}/.bashrc',\n",
    "     f'conda activate dask',\n",
    "     f'export X509_USER_PROXY={os.environ[\"HOME\"]}/x509up_u210253'\n",
    "]\n",
    "\n",
    "extra_args=[\n",
    "     \"--output=dask_job_output_%j.out\",\n",
    "     \"--error=dask_job_output_%j.err\",\n",
    "     \"--partition=submit\",\n",
    "     \"--clusters=submit\",\n",
    "]"
   ]
  },
  {
   "cell_type": "code",
   "execution_count": 5,
   "id": "93adef70-3f14-4ace-bad2-6c5156f2d6c4",
   "metadata": {},
   "outputs": [],
   "source": [
    "n_port       = 6820\n",
    "w_port       = 9765\n",
    "cores        = 1\n",
    "processes    = 1\n",
    "memory       = \"5 GB\"\n",
    "chunksize    = 15000\n",
    "maxchunks    = None"
   ]
  },
  {
   "cell_type": "markdown",
   "id": "c66c9ee4-6c47-4931-8844-b0b89b2353d8",
   "metadata": {},
   "source": [
    "The following sets up the processor and json file. If you want to change files you can simply modify the json file"
   ]
  },
  {
   "cell_type": "code",
   "execution_count": 6,
   "id": "4d5cf7c3-16f8-403b-9445-d5afbb9accdc",
   "metadata": {},
   "outputs": [],
   "source": [
    "#Set up the processor\n",
    "processor_instance = Simple_Process(isMC=1, era='2018', sample='test')"
   ]
  },
  {
   "cell_type": "code",
   "execution_count": 7,
   "id": "f20cbe8d-af0c-4a53-9fc6-0b592fdb1cc9",
   "metadata": {},
   "outputs": [],
   "source": [
    "file = \"../filelist/list_2018_MC_A01.txt\"\n",
    "samples = []\n",
    "with open(file, 'r') as stream:\n",
    "    for sample in stream.read().split('\\n'):\n",
    "        if '#' in sample: continue\n",
    "        if len(sample.split('/')) <= 1: continue\n",
    "        sample_name = sample.split(\"/\")[-1]\n",
    "        samples.append(sample_name)"
   ]
  },
  {
   "cell_type": "code",
   "execution_count": 8,
   "id": "3a7cfe42-357b-43cd-b0af-0c99ee1af8a7",
   "metadata": {},
   "outputs": [],
   "source": [
    "samples_dict = {}\n",
    "for sample_name in samples:\n",
    "    input_list = \"/home/tier3/cmsprod/catalog/t2mit/nanosu/A01/{}/RawFiles.00\".format(sample_name)\n",
    "    \n",
    "    files = []\n",
    "    Raw_list = open(input_list, \"r\")\n",
    "    for i in Raw_list:\n",
    "        file = i.split(\" \")[0]\n",
    "        files.append(file)\n",
    "    \n",
    "    samples_dict[sample_name] = files"
   ]
  },
  {
   "cell_type": "code",
   "execution_count": 9,
   "id": "6f87b335-d8bb-4089-9ed1-cbd367286c9f",
   "metadata": {},
   "outputs": [
    {
     "data": {
      "text/plain": [
       "{'QCD': ['root://xrootd.cmsaf.mit.edu//store/user/paus/nanosu/A01/QCD_Pt_1000to1400_TuneCP5_13TeV_pythia8+RunIISummer20UL18MiniAODv2-106X_upgrade2018_realistic_v16_L1v1-v1+MINIAODSIM/0075E755-4D7F-C245-A6FA-2D8CA9F50EEF.root',\n",
       "  'root://xrootd.cmsaf.mit.edu//store/user/paus/nanosu/A01/QCD_Pt_1000to1400_TuneCP5_13TeV_pythia8+RunIISummer20UL18MiniAODv2-106X_upgrade2018_realistic_v16_L1v1-v1+MINIAODSIM/0138A5DA-672F-9942-9918-1AE8096CD19F.root',\n",
       "  'root://xrootd.cmsaf.mit.edu//store/user/paus/nanosu/A01/QCD_Pt_1000to1400_TuneCP5_13TeV_pythia8+RunIISummer20UL18MiniAODv2-106X_upgrade2018_realistic_v16_L1v1-v1+MINIAODSIM/014DC220-BD66-C046-A7B8-CB6F42B0202A.root',\n",
       "  'root://xrootd.cmsaf.mit.edu//store/user/paus/nanosu/A01/QCD_Pt_1000to1400_TuneCP5_13TeV_pythia8+RunIISummer20UL18MiniAODv2-106X_upgrade2018_realistic_v16_L1v1-v1+MINIAODSIM/020B2868-F0D3-A04E-8DAC-56738D0C6F18.root',\n",
       "  'root://xrootd.cmsaf.mit.edu//store/user/paus/nanosu/A01/QCD_Pt_1000to1400_TuneCP5_13TeV_pythia8+RunIISummer20UL18MiniAODv2-106X_upgrade2018_realistic_v16_L1v1-v1+MINIAODSIM/020E468F-4FB3-2E4E-BE8C-21826202F628.root',\n",
       "  'root://xrootd.cmsaf.mit.edu//store/user/paus/nanosu/A01/QCD_Pt_1000to1400_TuneCP5_13TeV_pythia8+RunIISummer20UL18MiniAODv2-106X_upgrade2018_realistic_v16_L1v1-v1+MINIAODSIM/029673BA-92BC-6D4A-91E4-D1ADEECC6227.root',\n",
       "  'root://xrootd.cmsaf.mit.edu//store/user/paus/nanosu/A01/QCD_Pt_1000to1400_TuneCP5_13TeV_pythia8+RunIISummer20UL18MiniAODv2-106X_upgrade2018_realistic_v16_L1v1-v1+MINIAODSIM/036D773A-E151-5E4C-8E73-3A9BC34DB56F.root',\n",
       "  'root://xrootd.cmsaf.mit.edu//store/user/paus/nanosu/A01/QCD_Pt_1000to1400_TuneCP5_13TeV_pythia8+RunIISummer20UL18MiniAODv2-106X_upgrade2018_realistic_v16_L1v1-v1+MINIAODSIM/04C390A8-4DFE-3642-BD15-39C851AF4EF9.root',\n",
       "  'root://xrootd.cmsaf.mit.edu//store/user/paus/nanosu/A01/QCD_Pt_1000to1400_TuneCP5_13TeV_pythia8+RunIISummer20UL18MiniAODv2-106X_upgrade2018_realistic_v16_L1v1-v1+MINIAODSIM/054309E2-1A34-DE42-B28C-7697A009398C.root',\n",
       "  'root://xrootd.cmsaf.mit.edu//store/user/paus/nanosu/A01/QCD_Pt_1000to1400_TuneCP5_13TeV_pythia8+RunIISummer20UL18MiniAODv2-106X_upgrade2018_realistic_v16_L1v1-v1+MINIAODSIM/06F20DBE-2DCD-1D47-934B-197E2A646222.root'],\n",
       " 'SUEP': ['root://xrootd.cmsaf.mit.edu//store/user/paus/nanosu/A01/SUEP-m750-generic+RunIIAutumn18-private+MINIAODSIM/SUEP-m750-generic-1.root',\n",
       "  'root://xrootd.cmsaf.mit.edu//store/user/paus/nanosu/A01/SUEP-m750-generic+RunIIAutumn18-private+MINIAODSIM/SUEP-m750-generic-10.root',\n",
       "  'root://xrootd.cmsaf.mit.edu//store/user/paus/nanosu/A01/SUEP-m750-generic+RunIIAutumn18-private+MINIAODSIM/SUEP-m750-generic-100.root',\n",
       "  'root://xrootd.cmsaf.mit.edu//store/user/paus/nanosu/A01/SUEP-m750-generic+RunIIAutumn18-private+MINIAODSIM/SUEP-m750-generic-11.root',\n",
       "  'root://xrootd.cmsaf.mit.edu//store/user/paus/nanosu/A01/SUEP-m750-generic+RunIIAutumn18-private+MINIAODSIM/SUEP-m750-generic-12.root',\n",
       "  'root://xrootd.cmsaf.mit.edu//store/user/paus/nanosu/A01/SUEP-m750-generic+RunIIAutumn18-private+MINIAODSIM/SUEP-m750-generic-13.root',\n",
       "  'root://xrootd.cmsaf.mit.edu//store/user/paus/nanosu/A01/SUEP-m750-generic+RunIIAutumn18-private+MINIAODSIM/SUEP-m750-generic-14.root',\n",
       "  'root://xrootd.cmsaf.mit.edu//store/user/paus/nanosu/A01/SUEP-m750-generic+RunIIAutumn18-private+MINIAODSIM/SUEP-m750-generic-15.root',\n",
       "  'root://xrootd.cmsaf.mit.edu//store/user/paus/nanosu/A01/SUEP-m750-generic+RunIIAutumn18-private+MINIAODSIM/SUEP-m750-generic-16.root',\n",
       "  'root://xrootd.cmsaf.mit.edu//store/user/paus/nanosu/A01/SUEP-m750-generic+RunIIAutumn18-private+MINIAODSIM/SUEP-m750-generic-17.root']}"
      ]
     },
     "execution_count": 9,
     "metadata": {},
     "output_type": "execute_result"
    }
   ],
   "source": [
    "# testing out the system\n",
    "test_dict = {'QCD':samples_dict[list(samples_dict.keys())[0]][:10],\n",
    "                 'SUEP':samples_dict[list(samples_dict.keys())[-1]][:10]}\n",
    "test_dict"
   ]
  },
  {
   "cell_type": "markdown",
   "id": "7578929b-790e-409d-bfdb-9befceae8eb1",
   "metadata": {},
   "source": [
    "The next section forms the Slurm Cluster. You can set up various parameters of the cluster here."
   ]
  },
  {
   "cell_type": "code",
   "execution_count": 21,
   "id": "161ab5ca-0d06-4c30-96bb-24fa3915ce82",
   "metadata": {},
   "outputs": [
    {
     "name": "stderr",
     "output_type": "stream",
     "text": [
      "/home/submit/lavezzo/miniconda3/envs/dask/lib/python3.9/site-packages/distributed/node.py:181: UserWarning: Port 8000 is already in use.\n",
      "Perhaps you already have a cluster running?\n",
      "Hosting the HTTP server on port 40262 instead\n",
      "  warnings.warn(\n"
     ]
    }
   ],
   "source": [
    "if not check_port(n_port):\n",
    "    raise RuntimeError(\"Port '{}' is occupied on this node. Try another one.\".format(n_port))\n",
    "\n",
    "import socket\n",
    "cluster = SLURMCluster(\n",
    "        queue='all',\n",
    "        project=\"SUEP_Slurm\",\n",
    "        cores=cores,\n",
    "        processes=processes,\n",
    "        memory=memory,\n",
    "        #retries=10,\n",
    "        walltime='00:30:00',\n",
    "        scheduler_options={\n",
    "              'port': n_port,\n",
    "              'dashboard_address': 8000,\n",
    "              'host': socket.gethostname()\n",
    "        },\n",
    "        job_extra=extra_args,\n",
    "        env_extra=slurm_env,\n",
    ")"
   ]
  },
  {
   "cell_type": "code",
   "execution_count": 22,
   "id": "9298d20e-338a-489d-9e06-8f45d8fa3240",
   "metadata": {},
   "outputs": [
    {
     "name": "stdout",
     "output_type": "stream",
     "text": [
      "<Client: 'tcp://18.12.2.18:6820' processes=0 threads=0, memory=0 B>\n"
     ]
    }
   ],
   "source": [
    "cluster.adapt(minimum=1, maximum=250)\n",
    "client = Client(cluster)\n",
    "print(client)"
   ]
  },
  {
   "cell_type": "markdown",
   "id": "25cb8d52-2382-48f9-9da3-e7ed4fbd0532",
   "metadata": {},
   "source": [
    "# Running the processor\n",
    "Now we will run the code with a performance report. This will analyze all of the input ROOT files and will store the histograms in output. Then we can analyze the output and make plots."
   ]
  },
  {
   "cell_type": "code",
   "execution_count": 23,
   "id": "0d7312b5-e2da-4548-af9f-860e7646d63b",
   "metadata": {
    "tags": []
   },
   "outputs": [
    {
     "name": "stdout",
     "output_type": "stream",
     "text": [
      "[########################################] | 100% Completed | 14.7s\r"
     ]
    }
   ],
   "source": [
    "with performance_report(filename=\"dask-report.html\"):\n",
    "    output = processor.run_uproot_job(test_dict,\n",
    "             treename='Events',\n",
    "             processor_instance=processor_instance,\n",
    "             executor=processor.dask_executor,\n",
    "             executor_args={\n",
    "                           'client': client,\n",
    "                           #'skipbadfiles': skipbadfiles,\n",
    "                           'schema': processor.NanoAODSchema,\n",
    "                           'xrootdtimeout': 10,\n",
    "                           'retries': 3,\n",
    "                           },\n",
    "             chunksize=chunksize,\n",
    "             maxchunks=maxchunks)"
   ]
  },
  {
   "cell_type": "code",
   "execution_count": 23,
   "id": "fa71e9fc-4989-4579-b277-962634911d75",
   "metadata": {},
   "outputs": [
    {
     "data": {
      "text/plain": [
       "{'ht': Hist(Regular(1000, 0, 10000, name='HT', label='HT'), storage=Double()) # Sum: 96200.0,\n",
       " 'ntracks': Hist(Regular(1000, 0, 1000, name='ntracks', label='ntracks'), storage=Double()) # Sum: 96200.0,\n",
       " '2D_ht_ntracks': Hist(\n",
       "   Regular(1000, 0, 10000, name='HT', label='HT'),\n",
       "   Regular(1000, 0, 1000, name='ntracks', label='ntracks'),\n",
       "   storage=Double()) # Sum: 96200.0}"
      ]
     },
     "execution_count": 23,
     "metadata": {},
     "output_type": "execute_result"
    }
   ],
   "source": [
    "output"
   ]
  },
  {
   "cell_type": "code",
   "execution_count": 66,
   "id": "37c6d095-fb1d-4df4-96f2-0a9822e5b40a",
   "metadata": {},
   "outputs": [],
   "source": [
    "default_colors = {\n",
    "    'QCD': 'midnightblue',\n",
    "    'SUEP-m1000-darkPho': 'red',\n",
    "    'SUEP-m1000-darkPhoHad': 'red',\n",
    "    'SUEP-m1000-generic': 'red',\n",
    "    'SUEP-m750-darkPho': 'orange',\n",
    "    'SUEP-m750-darkPhoHad': 'orange',\n",
    "    'SUEP-m750-generic': 'orange',\n",
    "    'SUEP-m400-darkPho': 'green',\n",
    "    'SUEP-m400-darkPhoHad': 'green',\n",
    "    'SUEP-m400-generic': 'green',\n",
    "    'SUEP-m125-darkPho': 'cyan',\n",
    "    'SUEP-m125-darkPhoHad': 'cyan',\n",
    "    'SUEP-m125-generic': 'cyan',\n",
    "        \n",
    "}\n",
    "\n",
    "def plot1d(h, ax, label, rebin=-1, color='default', lw=1):\n",
    "    \n",
    "    if color == 'default': color = default_colors[label]\n",
    "    if label == 'QCD' and lw==1: lw=3\n",
    "    \n",
    "    y, x = h.to_numpy()    \n",
    "    e = np.sqrt(y)\n",
    "    x = x[:-1]\n",
    "    if rebin!=-1: x, y, e = combine_bins(x, y, e, n=rebin)\n",
    "    \n",
    "    #ax.step(x[:-1],values, label=label, color=color, lw=lw)\n",
    "    ax.errorbar(x, y, yerr=e, label=label, lw=lw, color=color, fmt=\"\", drawstyle='steps-mid')\n",
    "    ax.set_xlabel(h.axes[0].label)\n",
    "    ax.set_ylabel(\"Events\")\n",
    "    \n",
    "def plot2d(h, ax, log=False):\n",
    "    w, x, y = h.to_numpy()\n",
    "    if log: mesh = ax.pcolormesh(x, y, w.T, cmap=\"RdYlBu\", norm=matplotlib.colors.LogNorm())\n",
    "    else: mesh = ax.pcolormesh(x, y, w.T, cmap=\"RdYlBu\")\n",
    "    ax.set_xlabel(h.axes[0].label)\n",
    "    ax.set_ylabel(h.axes[1].label)\n",
    "    fig.colorbar(mesh)"
   ]
  },
  {
   "cell_type": "code",
   "execution_count": 67,
   "id": "bbe2822f-d725-47f2-9d38-f6e2d5a0ceea",
   "metadata": {},
   "outputs": [
    {
     "data": {
      "image/png": "[encoded data removed]",
      "text/plain": [
       "<Figure size 576x360 with 1 Axes>"
      ]
     },
     "metadata": {
      "needs_background": "light"
     },
     "output_type": "display_data"
    }
   ],
   "source": [
    "fig, ax = plt.subplots(figsize=(8,5))\n",
    "hep.cms.label(\"Preliminary\", data=True, year=2018)\n",
    "plot1d(output['ht'], ax, 'QCD')"
   ]
  },
  {
   "cell_type": "code",
   "execution_count": 68,
   "id": "0801beab-7cc9-465e-b177-8330359fafa9",
   "metadata": {},
   "outputs": [
    {
     "data": {
      "text/plain": [
       "(0.0, 100.0)"
      ]
     },
     "execution_count": 68,
     "metadata": {},
     "output_type": "execute_result"
    },
    {
     "data": {
      "image/png": "[encoded data removed]",
      "text/plain": [
       "<Figure size 576x360 with 1 Axes>"
      ]
     },
     "metadata": {
      "needs_background": "light"
     },
     "output_type": "display_data"
    }
   ],
   "source": [
    "fig, ax = plt.subplots(figsize=(8,5))\n",
    "hep.cms.label(\"Preliminary\", data=True, year=2018)\n",
    "plot1d(output['ntracks'], ax, 'QCD')\n",
    "ax.set_xlim(0,100)"
   ]
  },
  {
   "cell_type": "code",
   "execution_count": 71,
   "id": "20a9b88c-3816-412f-9417-3c305379090f",
   "metadata": {},
   "outputs": [
    {
     "data": {
      "text/plain": [
       "(0.0, 100.0)"
      ]
     },
     "execution_count": 71,
     "metadata": {},
     "output_type": "execute_result"
    },
    {
     "data": {
      "image/png": "[encoded data removed]",
      "text/plain": [
       "<Figure size 648x360 with 2 Axes>"
      ]
     },
     "metadata": {
      "needs_background": "light"
     },
     "output_type": "display_data"
    }
   ],
   "source": [
    " fig, ax = plt.subplots(figsize=(9,5))\n",
    "hep.cms.label(\"Preliminary\", data=True, year=2018)\n",
    "\n",
    "# plot QCD, sum values and errs\n",
    "plot2d(output['2D_ht_ntracks'], ax, log=True)\n",
    "ax.set_xlim(0,6000)\n",
    "ax.set_ylim(0,100)"
   ]
  },
  {
   "cell_type": "code",
   "execution_count": null,
   "id": "34f446cc-ade1-4fa1-8e56-3255d90d1a36",
   "metadata": {},
   "outputs": [],
   "source": []
  }
 ],
 "metadata": {
  "kernelspec": {
   "display_name": "dask",
   "language": "python",
   "name": "dask"
  },
  "language_info": {
   "codemirror_mode": {
    "name": "ipython",
    "version": 3
   },
   "file_extension": ".py",
   "mimetype": "text/x-python",
   "name": "python",
   "nbconvert_exporter": "python",
   "pygments_lexer": "ipython3",
   "version": "3.9.10"
  }
 },
 "nbformat": 4,
 "nbformat_minor": 5
}
