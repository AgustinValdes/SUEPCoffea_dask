{
 "cells": [
  {
   "cell_type": "code",
   "execution_count": 2,
   "metadata": {},
   "outputs": [],
   "source": [
    "import numpy as np\n",
    "import matplotlib.pyplot as plt\n",
    "from matplotlib.offsetbox import AnchoredText\n",
    "import mplhep as hep\n",
    "from coffea.util import load\n",
    "from coffea.hist import plot\n",
    "from coffea import hist\n",
    "import re"
   ]
  },
  {
   "cell_type": "code",
   "execution_count": 76,
   "metadata": {},
   "outputs": [],
   "source": [
    "output = load('hists_ctagtest_ctag_AK4_med.coffea')\n",
    "\n",
    "data_err_opts = {\n",
    "    'linestyle': 'none',\n",
    "    'marker': '.',\n",
    "    'markersize': 10.,\n",
    "    'color': 'k',\n",
    "    'elinewidth': 1,\n",
    "}\n",
    "from cycler import cycler\n",
    "colors=[\"#F44336\",\"#E91E63\",\"#9C27B0\",\"#673AB7\",\"#3F51B5\",\"#2196F3\",\"#03A9F4\",\"#00BCD4\",\"#009688\",\"#4CAF50\",\"#8BC34A\",\"#CDDC39\",\"#FFEB3B\",\"#FFC107\",\"#FF9800\",\"#FF5722\",\"#795548\",\"#BDBDBD\",\"#9E9E9E\",\"#616161\",\"#90BED4\",\"#607D8B\",\"#455A64\"]\n"
   ]
  },
  {
   "cell_type": "code",
   "execution_count": 79,
   "metadata": {
    "scrolled": false
   },
   "outputs": [
    {
     "name": "stdout",
     "output_type": "stream",
     "text": [
      "-2.5\n",
      "-2.0\n",
      "-1.5\n",
      "-0.5\n",
      "0.0\n",
      "0.5\n",
      "1.5\n",
      "2.0\n",
      "2.5\n"
     ]
    },
    {
     "data": {
      "image/png": "[encoded data removed]",
      "text/plain": [
       "<Figure size 576x432 with 2 Axes>"
      ]
     },
     "metadata": {
      "needs_background": "light"
     },
     "output_type": "display_data"
    }
   ],
   "source": [
    "def scale_xs(hist,lumi,events):\n",
    "    #xsection in pb\n",
    "    xs_dict = {\n",
    "        'QCD_Pt-15to20_MuEnrichedPt5_TuneCP5_13TeV_pythia8':3820000,\n",
    "        'QCD_Pt-20to30_MuEnrichedPt5_TuneCP5_13TeV_pythia8':2960000,\n",
    "        'QCD_Pt-30to50_MuEnrichedPt5_TuneCP5_13TeV_pythia8':1652471,\n",
    "        'QCD_Pt-50to80_MuEnrichedPt5_TuneCP5_13TeV_pythia8':437504,\n",
    "        'QCD_Pt-80to120_MuEnrichedPt5_TuneCP5_13TeV_pythia8':106033,\n",
    "        'QCD_Pt-120to170_MuEnrichedPt5_TuneCP5_13TeV_pythia8':24720,\n",
    "        'QCD_Pt-170to300_MuEnrichedPt5_TuneCP5_13TeV_pythia8':8654,\n",
    "        'QCD_Pt-300to470_MuEnrichedPt5_TuneCP5_13TeV_pythia8':797,\n",
    "        'QCD_Pt-470to600_MuEnrichedPt5_TuneCP5_13TeV_pythia8':79,\n",
    "        'QCD_Pt-600to800_MuEnrichedPt5_TuneCP5_13TeV_pythia8':25,\n",
    "        'QCD_Pt-800to1000_MuEnrichedPt5_TuneCP5_13TeV_pythia8':4.7,\n",
    "        'QCD_Pt-1000toInf_MuEnrichedPt5_TuneCP5_13TeV_pythia8':1.6,\n",
    "        'WJetsToLNu_TuneCP5_13TeV-madgraphMLM-pythia8':61524,\n",
    "        'DYJetsToLL_M-50_TuneCP5_13TeV-madgraphMLM-pythia8':6024,\n",
    "        'TTToHadronic_TuneCP5_13TeV-powheg-pythia8':313.9,\n",
    "        'TTTo2L2Nu_TuneCP5_13TeV-powheg-pythia8':72.1,\n",
    "        'TTToSemiLeptonic_TuneCP5_13TeV-powheg-pythia8':300.9,\n",
    "        'ST_tW_top_5f_inclusiveDecays_TuneCP5_13TeV-powheg-pythia8':35.6,\n",
    "        'ST_tW_antitop_5f_inclusiveDecays_TuneCP5_13TeV-powheg-pythia8':35.6,\n",
    "        'ST_t-channel_top_4f_inclusiveDecays_TuneCP5_13TeV-powhegV2-madspin-pythia8':136.02,\n",
    "        'ST_t-channel_antitop_4f_inclusiveDecays_TuneCP5_13TeV-powhegV2-madspin-pythia8':80.95,\n",
    "        'ST_s-channel_4f_leptonDecays_TuneCP5_13TeV-amcatnlo-pythia8':3.74,\n",
    "        'ST_s-channel_4f_hadronicDecays_TuneCP5_13TeV-amcatnlo-pythia8':11.24,\n",
    "        \"WW_TuneCP5_13TeV-pythia8\":63.21,\n",
    "        \"WZ_TuneCP5_13TeV-pythia8\":47.13,\n",
    "        \"ZZ_TuneCP5_13TeV-pythia8\":16.523   \n",
    "    }\n",
    "    scales={}\n",
    "\n",
    "    for key in events:\n",
    "        if type(key) != str or key==\"Data\": continue\n",
    "        scales[key]=xs_dict[key]*lumi/events[key]\n",
    "    h.scale(scales, axis=\"dataset\")\n",
    "    return h"
   ]
  },
  {
   "cell_type": "markdown",
   "metadata": {},
   "source": []
  },
  {
   "cell_type": "code",
   "execution_count": null,
   "metadata": {},
   "outputs": [],
   "source": []
  }
 ],
 "metadata": {
  "kernelspec": {
   "display_name": "Python 3",
   "language": "python",
   "name": "python3"
  },
  "language_info": {
   "codemirror_mode": {
    "name": "ipython",
    "version": 3
   },
   "file_extension": ".py",
   "mimetype": "text/x-python",
   "name": "python",
   "nbconvert_exporter": "python",
   "pygments_lexer": "ipython3",
   "version": "3.7.10"
  },
  "metadata": {
   "interpreter": {
    "hash": "31f2aee4e71d21fbe5cf8b01ff0e069b9275f58929596ceb00d14d90e3e16cd6"
   }
  }
 },
 "nbformat": 4,
 "nbformat_minor": 4
}
